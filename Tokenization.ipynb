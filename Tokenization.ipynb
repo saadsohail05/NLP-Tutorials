{
 "cells": [
  {
   "cell_type": "code",
   "execution_count": 28,
   "metadata": {},
   "outputs": [],
   "source": [
    "corpus=\"\"\"Hello Welcome, My name is Saad and this is an tutorial for tokenization in NLP.\n",
    "Please follow the instructions and you will be able to tokenize the text.\n",
    "\"\"\"\t"
   ]
  },
  {
   "cell_type": "code",
   "execution_count": 29,
   "metadata": {},
   "outputs": [
    {
     "name": "stdout",
     "output_type": "stream",
     "text": [
      "Hello Welcome, My name is Saad and this is an tutorial for tokenization in NLP.\n",
      "Please follow the instructions and you will be able to tokenize the text.\n",
      "\n"
     ]
    }
   ],
   "source": [
    "print(corpus)"
   ]
  },
  {
   "cell_type": "code",
   "execution_count": 30,
   "metadata": {},
   "outputs": [],
   "source": [
    "# Converting the Paragraphs into Sentences\n",
    "import nltk\n",
    "from nltk.tokenize import sent_tokenize\n"
   ]
  },
  {
   "cell_type": "code",
   "execution_count": 31,
   "metadata": {},
   "outputs": [
    {
     "name": "stdout",
     "output_type": "stream",
     "text": [
      "['Hello Welcome, My name is Saad and this is an tutorial for tokenization in NLP.', 'Please follow the instructions and you will be able to tokenize the text.']\n"
     ]
    }
   ],
   "source": [
    "documents = sent_tokenize(corpus)\n",
    "print(documents)"
   ]
  },
  {
   "cell_type": "code",
   "execution_count": 32,
   "metadata": {},
   "outputs": [
    {
     "name": "stdout",
     "output_type": "stream",
     "text": [
      "Hello Welcome, My name is Saad and this is an tutorial for tokenization in NLP.\n",
      "Please follow the instructions and you will be able to tokenize the text.\n"
     ]
    }
   ],
   "source": [
    "for i in documents:\n",
    "    print(i)\n",
    "    \n"
   ]
  },
  {
   "cell_type": "code",
   "execution_count": 37,
   "metadata": {},
   "outputs": [],
   "source": [
    "# Converting the Paragraphs into Words\n",
    "from nltk.tokenize import word_tokenize\n",
    "words = word_tokenize(corpus)"
   ]
  },
  {
   "cell_type": "code",
   "execution_count": 43,
   "metadata": {},
   "outputs": [
    {
     "name": "stdout",
     "output_type": "stream",
     "text": [
      "Hello\n",
      "Welcome\n",
      ",\n",
      "My\n",
      "name\n",
      "is\n",
      "Saad\n",
      "and\n",
      "this\n",
      "is\n",
      "an\n",
      "tutorial\n",
      "for\n",
      "tokenization\n",
      "in\n",
      "NLP.\n",
      "Please\n",
      "follow\n",
      "the\n",
      "instructions\n",
      "and\n",
      "you\n",
      "will\n",
      "be\n",
      "able\n",
      "to\n",
      "tokenize\n",
      "the\n",
      "text\n",
      ".\n"
     ]
    }
   ],
   "source": [
    "for i in words:\n",
    "    print(i)    "
   ]
  },
  {
   "cell_type": "code",
   "execution_count": 46,
   "metadata": {},
   "outputs": [],
   "source": [
    "from nltk.tokenize import wordpunct_tokenize\n",
    "wordsp = wordpunct_tokenize(corpus)  \n"
   ]
  },
  {
   "cell_type": "code",
   "execution_count": 47,
   "metadata": {},
   "outputs": [
    {
     "name": "stdout",
     "output_type": "stream",
     "text": [
      "Hello\n",
      "Welcome\n",
      ",\n",
      "My\n",
      "name\n",
      "is\n",
      "Saad\n",
      "and\n",
      "this\n",
      "is\n",
      "an\n",
      "tutorial\n",
      "for\n",
      "tokenization\n",
      "in\n",
      "NLP\n",
      ".\n",
      "Please\n",
      "follow\n",
      "the\n",
      "instructions\n",
      "and\n",
      "you\n",
      "will\n",
      "be\n",
      "able\n",
      "to\n",
      "tokenize\n",
      "the\n",
      "text\n",
      ".\n"
     ]
    }
   ],
   "source": [
    "for i in wordsp:\n",
    "    print(i)    "
   ]
  },
  {
   "cell_type": "code",
   "execution_count": 41,
   "metadata": {},
   "outputs": [],
   "source": [
    "from nltk.tokenize import TreebankWordTokenizer\n",
    "tokenizer = TreebankWordTokenizer()\n",
    "words = tokenizer.tokenize(corpus)"
   ]
  },
  {
   "cell_type": "code",
   "execution_count": 42,
   "metadata": {},
   "outputs": [
    {
     "name": "stdout",
     "output_type": "stream",
     "text": [
      "['Hello', 'Welcome', ',', 'My', 'name', 'is', 'Saad', 'and', 'this', 'is', 'an', 'tutorial', 'for', 'tokenization', 'in', 'NLP.', 'Please', 'follow', 'the', 'instructions', 'and', 'you', 'will', 'be', 'able', 'to', 'tokenize', 'the', 'text', '.']\n"
     ]
    }
   ],
   "source": [
    "print(words)"
   ]
  }
 ],
 "metadata": {
  "kernelspec": {
   "display_name": "Python 3",
   "language": "python",
   "name": "python3"
  },
  "language_info": {
   "codemirror_mode": {
    "name": "ipython",
    "version": 3
   },
   "file_extension": ".py",
   "mimetype": "text/x-python",
   "name": "python",
   "nbconvert_exporter": "python",
   "pygments_lexer": "ipython3",
   "version": "3.12.3"
  }
 },
 "nbformat": 4,
 "nbformat_minor": 2
}
